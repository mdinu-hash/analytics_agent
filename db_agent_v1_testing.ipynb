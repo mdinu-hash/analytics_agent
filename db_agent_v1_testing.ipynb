{
 "cells": [
  {
   "cell_type": "markdown",
   "id": "dbe0d03f",
   "metadata": {},
   "source": [
    "### Get Keys and instantiate model"
   ]
  },
  {
   "cell_type": "code",
   "execution_count": 11,
   "id": "baf1e332",
   "metadata": {},
   "outputs": [],
   "source": [
    "import langchain, langchain_openai, langsmith\n",
    "import os\n",
    "from dotenv import load_dotenv\n",
    "from langsmith import Client\n",
    "import uuid\n",
    "from langchain_core.messages import BaseMessage, HumanMessage, AIMessage, SystemMessage, RemoveMessage\n",
    "from langchain_core.prompts import ChatPromptTemplate, SystemMessagePromptTemplate\n",
    "\n",
    "load_dotenv(override=True)\n",
    "openai_api_key = os.getenv('OPENAI_API_KEY')\n",
    "LANGSMITH_API_KEY = os.getenv('LANGSMITH_API_KEY')\n",
    "os.environ['OPENAI_API_KEY'] = openai_api_key\n",
    "os.environ['LANGSMITH_API_KEY'] = LANGSMITH_API_KEY\n",
    "os.environ['LANGSMITH_TRACING'] = \"true\"\n",
    "os.environ['LANGSMITH_ENDPOINT'] = \"https://api.smith.langchain.com\"\n",
    "langsmith_project_name = \"db_agent_v1\"\n",
    "os.environ['LANGSMITH_PROJECT'] = langsmith_project_name\n",
    "\n",
    "from langchain_openai import ChatOpenAI\n",
    "llm = ChatOpenAI(model='gpt-4o',temperature=0)"
   ]
  },
  {
   "cell_type": "code",
   "execution_count": 2,
   "id": "70974a64",
   "metadata": {},
   "outputs": [],
   "source": [
    "from db_agent_v1 import objects_documentation, graph, create_config"
   ]
  },
  {
   "cell_type": "markdown",
   "id": "50aa15b3",
   "metadata": {},
   "source": [
    "### Create the questions & expected answers"
   ]
  },
  {
   "cell_type": "code",
   "execution_count": 7,
   "id": "3424f965",
   "metadata": {},
   "outputs": [],
   "source": [
    "\n",
    "\n",
    "### Q1\n",
    "question_q1 = 'How many companies are there?'\n",
    "expected_answer_q1 = '''There are 12 unique companies in the database.\n",
    "\n",
    "I analyzed data based on the following filters and transformations:\n",
    "\n",
    "🧊 Tables: • company\n",
    "\n",
    "🧮 Aggregations: • COUNT(DISTINCT company.company_name)'''\n",
    "\n",
    "input_state_q1 = {\n",
    "               'objects_documentation':objects_documentation,\n",
    "               'messages_log': [],\n",
    "               'question':question_q1,\n",
    "               'sql_queries': [],\n",
    "               'llm_answer': []\n",
    "               }    \n",
    "\n",
    "### Q2\n",
    "\n",
    "### Q3\n"
   ]
  },
  {
   "cell_type": "markdown",
   "id": "1e22fb78",
   "metadata": {},
   "source": [
    "### Create testing datasets in langsmith"
   ]
  },
  {
   "cell_type": "code",
   "execution_count": null,
   "id": "457e2eb3",
   "metadata": {},
   "outputs": [],
   "source": [
    "client = Client()\n",
    "dataset_name = 'Evaluation Dataset db_agent_v1'\n",
    "dataset = client.create_dataset(dataset_name)\n",
    "\n",
    "client.create_examples(\n",
    "    dataset_id = dataset.id,\n",
    "    examples = [\n",
    "        {\n",
    "          'inputs': input_state_q1,\n",
    "          'outputs': {'answer': expected_answer_q1}\n",
    "        }\n",
    "    ]\n",
    "                      )"
   ]
  },
  {
   "cell_type": "markdown",
   "id": "92b868ce",
   "metadata": {},
   "source": [
    "### Grade by corectness"
   ]
  },
  {
   "cell_type": "code",
   "execution_count": 15,
   "id": "195365ce",
   "metadata": {},
   "outputs": [],
   "source": [
    "from langchain.schema.output_parser import StrOutputParser\n",
    "\n",
    "def rate_corectness(inputs:dict, outputs: dict, reference_outputs: dict ):\n",
    "    prompt = ChatPromptTemplate.from_messages([\n",
    "        ('system', '''Rate the corectness of answering a question, by comparing the actual answer to the reference answer.\n",
    "                      \n",
    "                      Rate based on the following factors:\n",
    "                      - Precision of the data accuracy in relation to what is measured.\n",
    "                      - The degree to which the same filters and transformations were used.\n",
    "\n",
    "                      Rate between 1 and 10. In your response include just the rating.\n",
    "                     ''' ),\n",
    "        ('user',''' Question: \n",
    "                    {question} \n",
    "\n",
    "                    Actual answer:\n",
    "                    {actual_answer} \n",
    "\n",
    "                    Reference answer:\n",
    "                    {reference_answer} \n",
    "        ''')             \n",
    "    ])\n",
    "\n",
    "    chain = prompt | llm | StrOutputParser()\n",
    "\n",
    "    return chain.invoke({'question':inputs['question'],\n",
    "                         'actual_answer':outputs['response'],\n",
    "                         'reference_answer':reference_outputs['answer']})"
   ]
  },
  {
   "cell_type": "code",
   "execution_count": 19,
   "id": "6bc4a011",
   "metadata": {},
   "outputs": [
    {
     "data": {
      "text/plain": [
       "'1'"
      ]
     },
     "execution_count": 19,
     "metadata": {},
     "output_type": "execute_result"
    }
   ],
   "source": [
    "inputs = {'question':'How many companies are there?'}\n",
    "outputs = {'response':'''There are 100 unique companies in the database.\n",
    "\n",
    "I analyzed data based on the following filters and transformations:\n",
    "\n",
    "🧊 Tables: • company\n",
    "\n",
    "🧮 Aggregations: • COUNT(DISTINCT company_name)'''}\n",
    "\n",
    "reference_outputs = {'answer': '''There are 12 unique companies in the database.\n",
    "\n",
    "I analyzed data based on the following filters and transformations:\n",
    "\n",
    "🧊 Tables: • company\n",
    "\n",
    "🧮 Aggregations: • COUNT(DISTINCT company_name)'''\n",
    "}\n",
    "\n",
    "rate_corectness(inputs,outputs,reference_outputs)\n"
   ]
  },
  {
   "cell_type": "markdown",
   "id": "96841031",
   "metadata": {},
   "source": [
    "### Get actual answers by running the graph"
   ]
  },
  {
   "cell_type": "code",
   "execution_count": 9,
   "id": "ec787501",
   "metadata": {},
   "outputs": [],
   "source": [
    "config, thread_id = create_config('Run Agent',True)\n",
    "\n",
    "def run_agent(input_state: dict):\n",
    "\n",
    " for step in graph.stream(input_state, config = config, stream_mode=\"updates\"):\n",
    "  step_name, output = list(step.items())[0]\n",
    "  if step_name == 'generate_answer':\n",
    "   result = output['llm_answer'].content\n",
    " return {'response': result}  "
   ]
  },
  {
   "cell_type": "code",
   "execution_count": null,
   "id": "8ec3faaf",
   "metadata": {},
   "outputs": [],
   "source": [
    "#run_agent(input_state_q1)"
   ]
  },
  {
   "cell_type": "markdown",
   "id": "477187e3",
   "metadata": {},
   "source": [
    "### Run evaluation"
   ]
  },
  {
   "cell_type": "code",
   "execution_count": 16,
   "id": "4eb830cb",
   "metadata": {},
   "outputs": [
    {
     "name": "stdout",
     "output_type": "stream",
     "text": [
      "View the evaluation results for experiment: 'prefix-093cada0' at:\n",
      "https://smith.langchain.com/o/a016dac4-a501-45c3-b12f-e746a3b726f9/datasets/2f60a23a-c8ff-47db-a359-96657c488063/compare?selectedSessions=8d62e1cb-59a2-4001-9da3-6eb9fbdf6fe5\n",
      "\n",
      "\n"
     ]
    },
    {
     "name": "stderr",
     "output_type": "stream",
     "text": [
      "0it [00:00, ?it/s]"
     ]
    },
    {
     "name": "stdout",
     "output_type": "stream",
     "text": [
      "🚀 Executing query 1/1...\n"
     ]
    },
    {
     "name": "stderr",
     "output_type": "stream",
     "text": [
      "1it [00:06,  6.67s/it]\n"
     ]
    }
   ],
   "source": [
    "experiment_results = client.evaluate(\n",
    "    run_agent, # Your AI system\n",
    "    data=dataset_name, # The data to predict and grade over\n",
    "    evaluators=[rate_corectness], # The evaluators to score the results\n",
    "    experiment_prefix=\"prefix\", # A prefix for your experiment names to easily identify them\n",
    ")"
   ]
  },
  {
   "cell_type": "code",
   "execution_count": null,
   "id": "d537bdab",
   "metadata": {},
   "outputs": [],
   "source": [
    "\n",
    "messages_log = [\n",
    "    HumanMessage(content = 'How many companies are there?',id=1),\n",
    "    AIMessage(content = '''📣 Final Answer:\n",
    "\n",
    "There are 12 unique companies listed in the data. Keep in mind, though, that if there are any variations in how the company names are written (like different spellings or capitalization), it might affect the count slightly.\n",
    "\n",
    "I analyzed data based on the following filters and transformations:\n",
    "\n",
    "🧊 Tables: • company\n",
    "\n",
    "🧮 Aggregations: • COUNT(DISTINCT company.company_name)''',id=2),\n",
    "\n",
    "    HumanMessage(content = 'What can you tell me about the dataset?',id=3),\n",
    "    AIMessage(content = '''📣 Final Answer:\n",
    "\n",
    "The dataset provides some interesting insights:\n",
    "\n",
    "1. There are 12 unique companies listed in the dataset.\n",
    "2. On average, these companies have an annual revenue of about $26.3 trillion USD.\n",
    "3. There are 413,898 unique feedback entries, which means a lot of feedback has been collected.\n",
    "4. The average feedback rating is approximately 3.84 out of a possible scale (not specified here).\n",
    "5. There are 8,145 unique products in the dataset.\n",
    "\n",
    "These numbers give a broad overview of the dataset, showing a diverse range of companies, a significant amount of feedback, and a large variety of products. However, it doesn't dive into specifics like industry types, regional data, or detailed company attributes.\n",
    "\n",
    "I analyzed data based on the following filters and transformations:\n",
    "\n",
    "🧊 Tables: • company • feedback • products\n",
    "\n",
    "🧮 Aggregations: • COUNT(DISTINCT company.company_name) • AVG(company.annual_revenue_usd) • COUNT(DISTINCT feedback.feedback_id) • AVG(feedback.feedback_rating) • COUNT(DISTINCT products.product_id)',id=5),\n",
    "    HumanMessage(content = 'tell me a joke about rum refering to my name''',id=4),\n",
    "   \n",
    "    HumanMessage(content = 'Can you share the average feedback rating per company?',id=5),\n",
    "    AIMessage(content = '''📣 Final Answer:\n",
    "\n",
    "Sure! Here's the average feedback rating for each company based on the data we have:\n",
    "\n",
    "- Adidas: 4.06\n",
    "- Apple: 3.85\n",
    "- AT&T: 3.66\n",
    "- Cisco: 3.37\n",
    "- Google: 3.56\n",
    "- Microsoft: 3.91\n",
    "- Nike: 3.95\n",
    "- Samsung: 3.87\n",
    "- Sony: 3.83\n",
    "- Target: 3.33\n",
    "- Verizon: 3.84\n",
    "- Walmart: 3.31\n",
    "\n",
    "These numbers represent the average feedback ratings from customers for each company. Keep in mind that this is a straightforward average and doesn't account for things like the number of feedback entries or any unusual ratings that might affect the average.\n",
    "\n",
    "I analyzed data based on the following filters and transformations:\n",
    "...\n",
    "\n",
    "🧮 Aggregations: • AVG(feedback.feedback_rating)\n",
    "\n",
    "📦 Groupings: • feedback.product_company_name''',id=6),\n",
    "    \n",
    "    HumanMessage(content = 'fine, and how many products each company has?',id=7),\n",
    "    AIMessage(content = '''📣 Final Answer:\n",
    "\n",
    "Sure! Here's a quick rundown of how many products each company has:\n",
    "\n",
    "- Adidas has 181 products.\n",
    "- Apple offers 1,178 products.\n",
    "- AT&T has 134 products.\n",
    "- Cisco has 9 products.\n",
    "- Google has 459 products.\n",
    "- Microsoft offers 75 products.\n",
    "- Nike has 115 products.\n",
    "- Samsung has a whopping 4,801 products.\n",
    "- Sony offers 780 products.\n",
    "- Target has 2 products.\n",
    "- Verizon has 405 products.\n",
    "- Walmart has 6 products.\n",
    "\n",
    "This list includes all companies, even those with no products, thanks to the way the data was gathered.\n",
    "\n",
    "I analyzed data based on the following filters and transformations:\n",
    "...\n",
    "\n",
    "🧮 Aggregations: • COUNT(products.product_id)\n",
    "\n",
    "📦 Groupings: • company.company_name''',\n",
    "              response_metadata = { 'token_usage' : {'total_tokens' : 1200 } },\n",
    "              id=8  ) \n",
    "\n",
    "]"
   ]
  },
  {
   "cell_type": "code",
   "execution_count": null,
   "id": "f39f20ed",
   "metadata": {},
   "outputs": [],
   "source": [
    "messages_log = [\n",
    "    HumanMessage(content = 'How many companies are there?',id=1),\n",
    "    AIMessage(content = '''📣 Final Answer:\n",
    "\n",
    "There are 12 unique companies listed in the data. Keep in mind, though, that if there are any variations in how the company names are written (like different spellings or capitalization), it might affect the count slightly.\n",
    "\n",
    "I analyzed data based on the following filters and transformations:\n",
    "\n",
    "🧊 Tables: • company\n",
    "\n",
    "🧮 Aggregations: • COUNT(DISTINCT company.company_name)''',id=2),\n",
    "\n",
    "    HumanMessage(content = 'What can you tell me about the dataset?',id=3),\n",
    "    AIMessage(content = '''📣 Final Answer:\n",
    "\n",
    "The dataset provides some interesting insights:\n",
    "\n",
    "1. There are 12 unique companies listed in the dataset.\n",
    "2. On average, these companies have an annual revenue of about $26.3 trillion USD.\n",
    "3. There are 413,898 unique feedback entries, which means a lot of feedback has been collected.\n",
    "4. The average feedback rating is approximately 3.84 out of a possible scale (not specified here).\n",
    "5. There are 8,145 unique products in the dataset.\n",
    "\n",
    "These numbers give a broad overview of the dataset, showing a diverse range of companies, a significant amount of feedback, and a large variety of products. However, it doesn't dive into specifics like industry types, regional data, or detailed company attributes.\n",
    "\n",
    "I analyzed data based on the following filters and transformations:\n",
    "\n",
    "🧊 Tables: • company • feedback • products\n",
    "\n",
    "🧮 Aggregations: • COUNT(DISTINCT company.company_name) • AVG(company.annual_revenue_usd) • COUNT(DISTINCT feedback.feedback_id) • AVG(feedback.feedback_rating) • COUNT(DISTINCT products.product_id)',id=5),\n",
    "    HumanMessage(content = 'tell me a joke about rum refering to my name''',id=4),\n",
    "   \n",
    "    HumanMessage(content = 'Can you share the average feedback rating per company?',id=5),\n",
    "    AIMessage(content = '''📣 Final Answer:\n",
    "\n",
    "Sure! Here's the average feedback rating for each company based on the data we have:\n",
    "\n",
    "- Adidas: 4.06\n",
    "- Apple: 3.85\n",
    "- AT&T: 3.66\n",
    "- Cisco: 3.37\n",
    "- Google: 3.56\n",
    "- Microsoft: 3.91\n",
    "- Nike: 3.95\n",
    "- Samsung: 3.87\n",
    "- Sony: 3.83\n",
    "- Target: 3.33\n",
    "- Verizon: 3.84\n",
    "- Walmart: 3.31\n",
    "\n",
    "These numbers represent the average feedback ratings from customers for each company. Keep in mind that this is a straightforward average and doesn't account for things like the number of feedback entries or any unusual ratings that might affect the average.\n",
    "\n",
    "I analyzed data based on the following filters and transformations:\n",
    "...\n",
    "\n",
    "🧮 Aggregations: • AVG(feedback.feedback_rating)\n",
    "\n",
    "📦 Groupings: • feedback.product_company_name''',id=6),\n",
    "    \n",
    "    HumanMessage(content = 'fine, and how many products each company has?',id=7),\n",
    "    AIMessage(content = '''📣 Final Answer:\n",
    "\n",
    "Sure! Here's a quick rundown of how many products each company has:\n",
    "\n",
    "- Adidas has 181 products.\n",
    "- Apple offers 1,178 products.\n",
    "- AT&T has 134 products.\n",
    "- Cisco has 9 products.\n",
    "- Google has 459 products.\n",
    "- Microsoft offers 75 products.\n",
    "- Nike has 115 products.\n",
    "- Samsung has a whopping 4,801 products.\n",
    "- Sony offers 780 products.\n",
    "- Target has 2 products.\n",
    "- Verizon has 405 products.\n",
    "- Walmart has 6 products.\n",
    "\n",
    "This list includes all companies, even those with no products, thanks to the way the data was gathered.\n",
    "\n",
    "I analyzed data based on the following filters and transformations:\n",
    "...\n",
    "\n",
    "🧮 Aggregations: • COUNT(products.product_id)\n",
    "\n",
    "📦 Groupings: • company.company_name''',\n",
    "              response_metadata = { 'token_usage' : {'total_tokens' : 1200 } },\n",
    "              id=8  ) \n",
    "\n",
    "]\n",
    "\n",
    "question = 'what is the first company you listed in your previous response?'"
   ]
  }
 ],
 "metadata": {
  "interpreter": {
   "hash": "951c4e1ccc8e7dc066b7b3456b4d29f8a6c8c8949bd81a565897b5da2568416e"
  },
  "jupytext": {
   "cell_metadata_filter": "-all",
   "main_language": "python",
   "notebook_metadata_filter": "-all"
  },
  "kernelspec": {
   "display_name": "Python 3.9.13 ('.venv': venv)",
   "language": "python",
   "name": "python3"
  },
  "language_info": {
   "codemirror_mode": {
    "name": "ipython",
    "version": 3
   },
   "file_extension": ".py",
   "mimetype": "text/x-python",
   "name": "python",
   "nbconvert_exporter": "python",
   "pygments_lexer": "ipython3",
   "version": "3.9.13"
  }
 },
 "nbformat": 4,
 "nbformat_minor": 5
}
