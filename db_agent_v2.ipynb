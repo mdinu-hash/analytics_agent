{
 "cells": [
  {
   "cell_type": "markdown",
   "metadata": {},
   "source": [
    "# DB Agent v2 - PostgreSQL Demo Database\n",
    "\n",
    "This notebook tests the enhanced DB Agent v2 that connects to the PostgreSQL demo database with real financial services data."
   ]
  },
  {
   "cell_type": "markdown",
   "metadata": {},
   "source": [
    "## Import and Initialize"
   ]
  },
  {
   "cell_type": "code",
   "execution_count": 1,
   "metadata": {},
   "outputs": [
    {
     "name": "stderr",
     "output_type": "stream",
     "text": [
      "c:\\GDrive\\Github\\db_agent_v1\\src\\init\\init_demo_database\\demo_database_util.py:53: UserWarning: pandas only supports SQLAlchemy connectable (engine/connection) or database string URI or sqlite3 DBAPI2 connection. Other DBAPI2 objects are not tested. Please consider using SQLAlchemy.\n",
      "  df = pd.read_sql(query, conn, params=params)\n",
      "INFO:src.init.init_demo_database.demo_database_util:Generated documentation for 15 tables\n",
      "c:\\GDrive\\Github\\db_agent_v1\\src\\init\\init_demo_database\\demo_database_util.py:53: UserWarning: pandas only supports SQLAlchemy connectable (engine/connection) or database string URI or sqlite3 DBAPI2 connection. Other DBAPI2 objects are not tested. Please consider using SQLAlchemy.\n",
      "  df = pd.read_sql(query, conn, params=params)\n",
      "INFO:src.init.init_demo_database.demo_database_util:Generated database content for 17 columns\n"
     ]
    }
   ],
   "source": [
    "# Import the enhanced db_agent_v2\n",
    "from db_agent_v2 import graph, State, create_config, show_progress\n",
    "from langchain_core.messages import AIMessage\n",
    "import queue"
   ]
  },
  {
   "cell_type": "markdown",
   "metadata": {},
   "source": [
    "## Setup Progress Tracking"
   ]
  },
  {
   "cell_type": "code",
   "execution_count": 2,
   "metadata": {},
   "outputs": [],
   "source": [
    "# Set up progress tracking\n",
    "from db_agent_v2 import set_progress_queue\n",
    "\n",
    "_progress_queue = queue.Queue()\n",
    "set_progress_queue(_progress_queue)\n",
    "\n",
    "def display_progress():\n",
    "    \"\"\"Display any progress messages from the queue\"\"\"\n",
    "    while not _progress_queue.empty():\n",
    "        message = _progress_queue.get()\n",
    "        print(f\"Progress: {message}\")"
   ]
  },
  {
   "cell_type": "markdown",
   "metadata": {},
   "source": [
    "## Test Agent with Financial Services Questions"
   ]
  },
  {
   "cell_type": "markdown",
   "metadata": {},
   "source": [
    "### Question 1: Basic Data Exploration"
   ]
  },
  {
   "cell_type": "code",
   "execution_count": null,
   "metadata": {},
   "outputs": [],
   "source": [
    "# Start a new conversation with a basic question\n",
    "question = 'How many advisors are currently active in the system?'\n",
    "messages_log = []\n",
    "\n",
    "initial_dict = {\n",
    "    'objects_documentation': '',  # Will be populated by reset_state from initialization\n",
    "    'database_content': '',       # Will be populated by reset_state from initialization\n",
    "    'sql_dialect': '',            # Will be populated by reset_state from initialization\n",
    "    'messages_log': messages_log,\n",
    "    'intermediate_steps': [],\n",
    "    'analytical_intent': [],\n",
    "    'current_question': question,\n",
    "    'current_sql_queries': [],\n",
    "    'generate_answer_details': {},\n",
    "    'llm_answer': AIMessage(content='')\n",
    "}\n",
    "\n",
    "config, thread_id = create_config('Test Agent v2 - Basic Question', True)\n",
    "\n",
    "print(f\"🤔 Question: {question}\")\n",
    "print(\"\\n\" + \"=\"*50)\n",
    "\n",
    "for step in graph.stream(initial_dict, config=config, stream_mode=\"updates\"):\n",
    "    step_name, output = list(step.items())[0]\n",
    "    display_progress()\n",
    "    \n",
    "    if step_name == 'generate_answer':\n",
    "        print(\"\\n📣 Final Answer:\")\n",
    "        print(\"=\"*50)\n",
    "        print(output['llm_answer'].content)\n",
    "        print(\"\\n\")"
   ]
  },
  {
   "cell_type": "markdown",
   "metadata": {},
   "source": [
    "### Question 2: Business Analysis"
   ]
  },
  {
   "cell_type": "code",
   "execution_count": null,
   "metadata": {},
   "outputs": [],
   "source": [
    "# Continue the conversation with a business analysis question\n",
    "question = 'What is the total assets under management by business line?'\n",
    "initial_dict.update({'current_question': question})\n",
    "config, _ = create_config('Test Agent v2 - Business Analysis', False, thread_id)\n",
    "\n",
    "print(f\"🤔 Question: {question}\")\n",
    "print(\"\\n\" + \"=\"*50)\n",
    "\n",
    "for step in graph.stream(initial_dict, config=config, stream_mode=\"updates\"):\n",
    "    step_name, output = list(step.items())[0]\n",
    "    display_progress()\n",
    "    \n",
    "    if step_name == 'generate_answer':\n",
    "        print(\"\\n📣 Final Answer:\")\n",
    "        print(\"=\"*50)\n",
    "        print(output['llm_answer'].content)\n",
    "        print(\"\\n\")"
   ]
  },
  {
   "cell_type": "markdown",
   "metadata": {},
   "source": [
    "### Question 3: Revenue Analysis"
   ]
  },
  {
   "cell_type": "code",
   "execution_count": null,
   "metadata": {},
   "outputs": [],
   "source": [
    "# Ask about revenue trends\n",
    "question = 'Show me the monthly revenue trends for the last 6 months'\n",
    "initial_dict.update({'current_question': question})\n",
    "config, _ = create_config('Test Agent v2 - Revenue Analysis', False, thread_id)\n",
    "\n",
    "print(f\"🤔 Question: {question}\")\n",
    "print(\"\\n\" + \"=\"*50)\n",
    "\n",
    "for step in graph.stream(initial_dict, config=config, stream_mode=\"updates\"):\n",
    "    step_name, output = list(step.items())[0]\n",
    "    display_progress()\n",
    "    \n",
    "    if step_name == 'generate_answer':\n",
    "        print(\"\\n📣 Final Answer:\")\n",
    "        print(\"=\"*50)\n",
    "        print(output['llm_answer'].content)\n",
    "        print(\"\\n\")"
   ]
  },
  {
   "cell_type": "markdown",
   "metadata": {},
   "source": [
    "### Question 4: Complex Multi-Step Analysis"
   ]
  },
  {
   "cell_type": "code",
   "execution_count": null,
   "metadata": {},
   "outputs": [],
   "source": [
    "# Ask a complex question requiring multi-step analysis\n",
    "question = 'Which advisors have the highest client satisfaction scores and what is their average revenue per client?'\n",
    "initial_dict.update({'current_question': question})\n",
    "config, _ = create_config('Test Agent v2 - Complex Analysis', False, thread_id)\n",
    "\n",
    "print(f\"🤔 Question: {question}\")\n",
    "print(\"\\n\" + \"=\"*50)\n",
    "\n",
    "for step in graph.stream(initial_dict, config=config, stream_mode=\"updates\"):\n",
    "    step_name, output = list(step.items())[0]\n",
    "    display_progress()\n",
    "    \n",
    "    if step_name == 'generate_answer':\n",
    "        print(\"\\n📣 Final Answer:\")\n",
    "        print(\"=\"*50)\n",
    "        print(output['llm_answer'].content)\n",
    "        print(\"\\n\")"
   ]
  },
  {
   "cell_type": "markdown",
   "metadata": {},
   "source": [
    "### Question 5: Exploratory Analysis"
   ]
  },
  {
   "cell_type": "code",
   "execution_count": null,
   "metadata": {},
   "outputs": [],
   "source": [
    "# Ask an exploratory question\n",
    "question = 'What can you tell me about the financial advisory business from this data?'\n",
    "initial_dict.update({'current_question': question})\n",
    "config, _ = create_config('Test Agent v2 - Exploratory', False, thread_id)\n",
    "\n",
    "print(f\"🤔 Question: {question}\")\n",
    "print(\"\\n\" + \"=\"*50)\n",
    "\n",
    "for step in graph.stream(initial_dict, config=config, stream_mode=\"updates\"):\n",
    "    step_name, output = list(step.items())[0]\n",
    "    display_progress()\n",
    "    \n",
    "    if step_name == 'generate_answer':\n",
    "        print(\"\\n📣 Final Answer:\")\n",
    "        print(\"=\"*50)\n",
    "        print(output['llm_answer'].content)\n",
    "        print(\"\\n\")"
   ]
  },
  {
   "cell_type": "markdown",
   "metadata": {},
   "source": [
    "## Test Error Handling"
   ]
  },
  {
   "cell_type": "code",
   "execution_count": null,
   "metadata": {},
   "outputs": [],
   "source": [
    "# Test with a question that requires data not in the schema\n",
    "question = 'What is the weather forecast for New York tomorrow?'\n",
    "initial_dict.update({'current_question': question})\n",
    "config, _ = create_config('Test Agent v2 - Error Handling', False, thread_id)\n",
    "\n",
    "print(f\"🤔 Question: {question}\")\n",
    "print(\"\\n\" + \"=\"*50)\n",
    "\n",
    "for step in graph.stream(initial_dict, config=config, stream_mode=\"updates\"):\n",
    "    step_name, output = list(step.items())[0]\n",
    "    display_progress()\n",
    "    \n",
    "    if step_name == 'generate_answer':\n",
    "        print(\"\\n📣 Final Answer:\")\n",
    "        print(\"=\"*50)\n",
    "        print(output['llm_answer'].content)\n",
    "        print(\"\\n\")"
   ]
  },
  {
   "cell_type": "markdown",
   "metadata": {},
   "source": [
    "## Test Ambiguous Questions"
   ]
  },
  {
   "cell_type": "code",
   "execution_count": null,
   "metadata": {},
   "outputs": [],
   "source": [
    "# Test with an ambiguous question\n",
    "question = 'Who is the top advisor?'\n",
    "initial_dict.update({'current_question': question})\n",
    "config, _ = create_config('Test Agent v2 - Ambiguous Question', False, thread_id)\n",
    "\n",
    "print(f\"🤔 Question: {question}\")\n",
    "print(\"\\n\" + \"=\"*50)\n",
    "\n",
    "for step in graph.stream(initial_dict, config=config, stream_mode=\"updates\"):\n",
    "    step_name, output = list(step.items())[0]\n",
    "    display_progress()\n",
    "    \n",
    "    if step_name == 'generate_answer':\n",
    "        print(\"\\n📣 Final Answer:\")\n",
    "        print(\"=\"*50)\n",
    "        print(output['llm_answer'].content)\n",
    "        print(\"\\n\")"
   ]
  },
  {
   "cell_type": "markdown",
   "metadata": {},
   "source": [
    "## Summary\n",
    "\n",
    "This notebook demonstrates the enhanced DB Agent v2 capabilities:\n",
    "\n",
    "✅ **PostgreSQL Integration**: Direct connection to demo database with real financial data  \n",
    "✅ **Dynamic Schema**: Automatic metadata loading from `metadata_reference_table`  \n",
    "✅ **Business Intelligence**: Complex financial services analysis capabilities  \n",
    "✅ **Error Handling**: Graceful handling of out-of-scope questions  \n",
    "✅ **Multi-step Analysis**: Sophisticated analytical workflows with CTEs  \n",
    "✅ **Natural Language**: Conversational interface for non-technical users  \n",
    "\n",
    "The agent can now analyze real financial advisory data including:\n",
    "- Advisor performance and client relationships\n",
    "- Asset management and revenue analysis  \n",
    "- Customer satisfaction and feedback trends\n",
    "- Business line performance comparisons\n",
    "- Risk profiling and portfolio analysis"
   ]
  }
 ],
 "metadata": {
  "kernelspec": {
   "display_name": ".venv-py313",
   "language": "python",
   "name": "python3"
  },
  "language_info": {
   "codemirror_mode": {
    "name": "ipython",
    "version": 3
   },
   "file_extension": ".py",
   "mimetype": "text/x-python",
   "name": "python",
   "nbconvert_exporter": "python",
   "pygments_lexer": "ipython3",
   "version": "3.13.5"
  }
 },
 "nbformat": 4,
 "nbformat_minor": 4
}
