{
 "cells": [
  {
   "cell_type": "code",
   "execution_count": null,
   "metadata": {},
   "outputs": [],
   "source": [
    "# test graph\n",
    "\n",
    "import mlflow\n",
    "from datetime import datetime\n",
    "import uuid\n",
    "\n",
    "### imports ###\n",
    "from langchain_core.messages import AIMessage\n",
    "from src.agent.agent import graph,objects_documentation,sql_dialect,database_content,llm\n",
    "from src.init.databricks.databricks_util import start_agent_run_mlflow, log_agent_metrics_mlflow\n",
    "\n",
    "###\n",
    "question = 'how many accounts are there?'\n",
    "messages_log = []\n",
    "\n",
    "test_state = {}\n",
    "\n",
    "# Start new thread (is_new_thread_id is true)\n",
    "info = start_agent_run_mlflow(\n",
    "    experiment_folder='/folder/subfolder'\n",
    "    agent_name = 'name',\n",
    "    scope = 'Test',\n",
    "    question = question,\n",
    "    is_new_thread_id = True ## new run\n",
    ")\n",
    "thread_id = info['config']['configurable']['thread_id'] ## retrieve thread_if for followup question\n",
    "\n",
    "# execute first question\n",
    "result = graph.invoke(test_state,config=info['config'])\n",
    "# log metrics\n",
    "log_agent_metrics_mlflow(result)\n",
    "\n",
    "# followup question\n",
    "question = 'number of accounts by registration type'\n",
    "\n",
    "# start new run, reuse existing thread\n",
    "info = start_agent_run_mlflow(\n",
    "    experiment_folder='/folder/subfolder'\n",
    "    agent_name = 'name',\n",
    "    scope = 'Test',\n",
    "    question = question,\n",
    "    thread_id = thread_id ## re-use existing thread\n",
    ")\n",
    "test_state['current_question'] = question\n",
    "result = graph.invoke(test_state,config=info['config'])\n",
    "# log metrics\n",
    "log_agent_metrics_mlflow(result)"
   ]
  }
 ],
 "metadata": {
  "language_info": {
   "name": "python"
  },
  "orig_nbformat": 4
 },
 "nbformat": 4,
 "nbformat_minor": 2
}
