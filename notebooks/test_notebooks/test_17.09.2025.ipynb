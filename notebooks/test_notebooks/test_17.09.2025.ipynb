{
 "cells": [
  {
   "cell_type": "markdown",
   "metadata": {},
   "source": [
    "ambiguity"
   ]
  },
  {
   "cell_type": "code",
   "execution_count": 1,
   "metadata": {},
   "outputs": [],
   "source": [
    "# add root to sys path\n",
    "import os\n",
    "import sys\n",
    "\n",
    "current_dir = os.getcwd()\n",
    "root = os.path.abspath(os.path.join(current_dir,\"..\",\"..\"))\n",
    "if root not in sys.path:\n",
    "    sys.path.append(root)"
   ]
  },
  {
   "cell_type": "code",
   "execution_count": 2,
   "metadata": {},
   "outputs": [],
   "source": [
    "ANTHROPIC_API_KEY = os.getenv('ANTHROPIC_API_KEY')\n",
    "openai_api_key = os.getenv('OPENAI_API_KEY')\n",
    "os.environ['ANTHROPIC_API_KEY'] = ANTHROPIC_API_KEY"
   ]
  },
  {
   "cell_type": "code",
   "execution_count": null,
   "metadata": {},
   "outputs": [],
   "source": "# Imports\n\nimport agent\nfrom langchain_core.messages import AIMessage, HumanMessage\n\ngraph = agent.graph\ncreate_config = agent.create_config\nobjects_documentation = agent.objects_documentation\ndatabase_content = agent.database_content\nsql_dialect = agent.sql_dialect\norchestrator = agent.orchestrator\nrun_control_flow = agent.run_control_flow\ngenerate_answer = agent.generate_answer\ncreate_sql_query_or_queries = agent.create_sql_query_or_queries\nextract_analytical_intent = agent.extract_analytical_intent\n\n# Import initialization components\nfrom src.init.initialization import (\n    llm, llm_fast, create_config, tracer,\n    objects_documentation, database_content, sql_dialect, connection_string\n)\n\nquestion = 'placeholder'\ntest_state = {\n'objects_documentation':objects_documentation,\n'database_content':database_content,\n'sql_dialect': sql_dialect,\n'messages_log':[],\n'intermediate_steps' : [],\n'analytical_intent': [],\n'current_question':question,\n'current_sql_queries': [],\n'generate_answer_details': {},\n'llm_answer': AIMessage(content='')\n}"
  },
  {
   "cell_type": "markdown",
   "metadata": {},
   "source": [
    "### Thread"
   ]
  },
  {
   "cell_type": "code",
   "execution_count": 9,
   "metadata": {},
   "outputs": [
    {
     "name": "stderr",
     "output_type": "stream",
     "text": [
      "INFO:httpx:HTTP Request: POST https://api.anthropic.com/v1/messages \"HTTP/1.1 200 OK\"\n",
      "INFO:httpx:HTTP Request: POST https://api.anthropic.com/v1/messages \"HTTP/1.1 200 OK\"\n",
      "INFO:httpx:HTTP Request: POST https://api.anthropic.com/v1/messages \"HTTP/1.1 200 OK\"\n",
      "INFO:httpx:HTTP Request: POST https://api.anthropic.com/v1/messages \"HTTP/1.1 200 OK\"\n",
      "c:\\GDrive\\Github\\db_agent_v1\\src\\init\\init_demo_database\\demo_database_util.py:53: UserWarning: pandas only supports SQLAlchemy connectable (engine/connection) or database string URI or sqlite3 DBAPI2 connection. Other DBAPI2 objects are not tested. Please consider using SQLAlchemy.\n",
      "  df = pd.read_sql(query, conn, params=params)\n",
      "INFO:httpx:HTTP Request: POST https://api.anthropic.com/v1/messages \"HTTP/1.1 200 OK\"\n",
      "INFO:httpx:HTTP Request: POST https://api.anthropic.com/v1/messages \"HTTP/1.1 200 OK\"\n"
     ]
    },
    {
     "name": "stdout",
     "output_type": "stream",
     "text": [
      "Analytical intent: [\"Calculate total net_revenue from fact_revenue_monthly table grouped by firm_name from advisors table, filtering for advisors with to_date = '9999-12-31' to get current records, and order by total revenue descending to identify which firms generate the most revenue.\"]\n",
      "\n",
      "SQL query: [{'query': \"SELECT a.firm_name, SUM(frm.net_revenue) as total_net_revenue FROM public.fact_revenue_monthly frm JOIN public.advisors a ON frm.advisor_key = a.advisor_key WHERE a.to_date = '9999-12-31' GROUP BY a.firm_name ORDER BY total_net_revenue DESC\", 'explanation': 'Total net revenue by firm name, ranked from highest to lowest', 'result': '             firm_name  total_net_revenue\\n      Atlas Wealth LLC         1303310.69\\n  Granite Advisors LLC          344054.13\\n   Crescent Wealth LLC          336130.94\\n        Oak Wealth LLC          240911.27\\n   Summit Partners LLC          214456.87\\n  Granite Partners LLC          191092.41\\n     Oak Financial LLC          182767.80\\n     Cedar Capital LLC          178963.51\\n   River Financial LLC          170134.04\\n      Cedar Wealth LLC          156153.50\\n    Granite Wealth LLC          130029.91\\n      Ridge Wealth LLC          115659.42\\n    Pioneer Wealth LLC          112054.42\\n      Oak Advisors LLC           96252.00\\n     Harbor Wealth LLC           93363.29\\n    Summit Capital LLC           88014.60\\n   Cedar Financial LLC           80674.24\\nCrescent Financial LLC           67270.21\\n  Crescent Capital LLC           52898.51\\n     Summit Wealth LLC           51988.67\\n      Oak Partners LLC           47048.61\\n Crescent Advisors LLC           46747.05\\n  Summit Financial LLC           45213.47\\n    Harbor Capital LLC           30831.34\\n    Atlas Advisors LLC           26697.52', 'insight': \"Atlas Wealth LLC generates the highest total net revenue at $1.3 million, significantly outperforming other firms. The top 3 firms (Atlas Wealth LLC, Granite Advisors LLC, and Crescent Wealth LLC) account for a substantial portion of total revenue. There's a steep decline in revenue after the top performer, with the second-highest firm generating only about 26% of Atlas Wealth's revenue. The analysis only reflects advisors marked as current or active (to_date = '9999-12-31') and combines revenue across all available time periods without date restrictions.\", 'metadata': \"🧊 Tables: • public.fact_revenue_monthly AS frm • public.advisors AS a\\n\\n🔍 Filters applied: • a.to_date = '9999-12-31'\\n\\n🧮 Aggregations: • SUM(frm.net_revenue)\\n\\n📦 Groupings: • a.firm_name\"}]\n",
      "\n",
      "Generate Answer Details: {'scenario': 'A', 'notes': None}\n",
      "\n",
      "Answer: Based on the data, **Atlas Wealth LLC** is the clear revenue leader, generating $1.3 million in total net revenue - that's significantly more than any other firm. \n",
      "\n",
      "Here's the breakdown of your top revenue generators:\n",
      "\n",
      "**Top 3 firms dominate:**\n",
      "- **Atlas Wealth LLC**: $1.3M (the standout performer)\n",
      "- **Granite Advisors LLC**: $344K \n",
      "- **Crescent Wealth LLC**: $336K\n",
      "\n",
      "What's striking is the steep drop-off after Atlas Wealth - the second-place firm only generates about 26% of Atlas's revenue. The remaining firms range from $240K down to $27K, showing a long tail of smaller revenue contributors.\n",
      "\n",
      "This analysis covers all current/active advisors across all time periods, so you're seeing the complete revenue picture.\n",
      "\n",
      "**Want to dig deeper?** I can help you explore:\n",
      "- **Revenue trends over time** - Has Atlas Wealth always been the leader, or is this a recent development?\n",
      "- **What drives Atlas Wealth's success** - We could analyze their advisor composition, business line mix, or client segments to understand their competitive advantage\n",
      "\n",
      "Which direction interests you more?\n",
      "\n",
      "🔍 Filters applied: • a.to_date = '9999-12-31'\n"
     ]
    }
   ],
   "source": [
    "question = 'Which firms make up the most revenue?' \n",
    "\n",
    "test_state['current_question'] = question\n",
    "vector_store = None  # reset vector store\n",
    "config, thread_id = create_config('Run Agent',True)\n",
    "#test_state = extract_analytical_intent.invoke({'state':test_state})\n",
    "result = graph.invoke(test_state, config = config)\n",
    "display = f'''Analytical intent: {result['analytical_intent']}\\n\\nSQL query: {result['current_sql_queries']}\\n\\nGenerate Answer Details: {result['generate_answer_details']}\\n\\nAnswer: {result['llm_answer'].content}'''\n",
    "print(display)"
   ]
  },
  {
   "cell_type": "markdown",
   "metadata": {},
   "source": [
    "### Thread"
   ]
  },
  {
   "cell_type": "code",
   "execution_count": 4,
   "metadata": {},
   "outputs": [
    {
     "name": "stderr",
     "output_type": "stream",
     "text": [
      "INFO:httpx:HTTP Request: POST https://api.anthropic.com/v1/messages \"HTTP/1.1 200 OK\"\n",
      "INFO:httpx:HTTP Request: POST https://api.anthropic.com/v1/messages \"HTTP/1.1 200 OK\"\n",
      "INFO:httpx:HTTP Request: POST https://api.anthropic.com/v1/messages \"HTTP/1.1 200 OK\"\n"
     ]
    },
    {
     "name": "stdout",
     "output_type": "stream",
     "text": [
      "Analytical intent: [\"Calculate the end-of-month account_assets from fact_account_monthly table and advisor_payout_amount from fact_revenue_monthly table for accounts where the advisor's firm_name is 'Oak Wealth' for the most recent snapshot_date.\", \"Calculate the end-of-month household_assets from fact_household_monthly table and sum of advisor_payout_amount from fact_revenue_monthly table grouped by household for households served by advisors where firm_name is 'Oak Wealth' for the most recent snapshot_date.\", \"Calculate the end-of-month account_assets from fact_revenue_monthly table and advisor_payout_amount from the same table for accounts where the advisor's firm_name is 'Oak Wealth' for the most recent snapshot_date.\"]\n",
      "\n",
      "SQL query: []\n",
      "\n",
      "Generate Answer Details: {'scenario': 'D', 'notes': 'Your question about Oak Wealth\\'s \"EOM asset value and payout\" is ambiguous because it could mean different things:\\n\\n**What makes it unclear:**\\n- \"Asset value\" could refer to individual account assets or total household assets\\n- The data can be viewed at different levels (account-by-account vs. household totals)\\n- Assets are tracked in multiple tables with slightly different purposes\\n\\n**Please clarify which analysis you want:**\\n\\n1. **Individual Account Level** - Show each account\\'s assets and the advisor payout for that account\\n\\n2. **Household Level** - Show total household assets and combined advisor payouts for each household (since households may have multiple accounts)\\n\\n3. **Revenue Table Focus** - Use the revenue-specific data that ties assets directly to fee calculations and payouts\\n\\nWhich approach matches what you\\'re looking for? This will help me give you the most relevant results for Oak Wealth.'}\n"
     ]
    }
   ],
   "source": [
    "question = 'For Oak Wealth, what was their EOM asset value and payout?'\n",
    "\n",
    "test_state['current_question'] = question\n",
    "vector_store = None  # reset vector store\n",
    "config, thread_id = create_config('Run Agent',True)\n",
    "#test_state = extract_analytical_intent.invoke({'state':test_state})\n",
    "result = graph.invoke(test_state, config = config)\n",
    "display = f'''Analytical intent: {result['analytical_intent']}\\n\\nSQL query: {result['current_sql_queries']}\\n\\nGenerate Answer Details: {result['generate_answer_details']}\\n\\nAnswer: {result['llm_answer'].content}'''\n",
    "print(display)"
   ]
  },
  {
   "cell_type": "markdown",
   "metadata": {},
   "source": [
    "### Thread"
   ]
  },
  {
   "cell_type": "code",
   "execution_count": null,
   "metadata": {},
   "outputs": [],
   "source": [
    "question = 'For advisor ID 8, show their products usage status, total assets and payout.'\n",
    "\n",
    "test_state['current_question'] = question\n",
    "vector_store = None  # reset vector store\n",
    "config, thread_id = create_config('Run Agent',True)\n",
    "#test_state = extract_analytical_intent.invoke({'state':test_state})\n",
    "result = graph.invoke(test_state, config = config)\n",
    "display = f'''Analytical intent: {result['analytical_intent']}\\n\\nSQL query: {result['current_sql_queries']}\\n\\nGenerate Answer Details: {result['generate_answer_details']}\\n\\nAnswer: {result['llm_answer'].content}'''\n",
    "print(display)"
   ]
  },
  {
   "cell_type": "markdown",
   "metadata": {},
   "source": [
    "### Multi-questions Thread"
   ]
  },
  {
   "cell_type": "code",
   "execution_count": null,
   "metadata": {},
   "outputs": [],
   "source": [
    "# start the conversation with the graph\n",
    "question = 'Which household segment is responsible for most revenue?' \n",
    "\n",
    "test_state['current_question'] = question\n",
    "vector_store = None  # reset vector store\n",
    "config, thread_id = create_config('Run Agent',True)\n",
    "\n",
    "result = graph.invoke(test_state, config = config)\n",
    "display = f'''Analytical intent: {result['analytical_intent']}\\n\\nSQL query: {result['current_sql_queries']}\\n\\nGenerate Answer Details: {result['generate_answer_details']}\\n\\nAnswer: {result['llm_answer'].content}'''\n",
    "print(display)"
   ]
  },
  {
   "cell_type": "code",
   "execution_count": null,
   "metadata": {},
   "outputs": [],
   "source": [
    "# continue the conversation with the graph (followup 1)\n",
    "question = 'Which segments have the most room to grow?'\n",
    "\n",
    "test_state['current_question'] = question\n",
    "vector_store = None  # reset vector store\n",
    "config, _ = create_config('generate_answer', False, thread_id) # (re-use same thread)\n",
    "result = graph.invoke(test_state, config)\n",
    "display = f'''Analytical intent: {result['analytical_intent']}\\n\\nSQL query: {result['current_sql_queries']}\\n\\nGenerate Answer Details: {result['generate_answer_details']}\\n\\nAnswer: {result['llm_answer']}'''\n",
    "print(display)"
   ]
  },
  {
   "cell_type": "code",
   "execution_count": null,
   "metadata": {},
   "outputs": [],
   "source": [
    "# continue the conversation with the graph (followup 2)\n",
    "question = 'I would like to identify practice segments that make up a high revenue but they are a small % of firms as a number.'\n",
    "\n",
    "test_state['current_question'] = question\n",
    "vector_store = None  # reset vector store\n",
    "config, _ = create_config('generate_answer', False, thread_id) # (re-use same thread)\n",
    "result = graph.invoke(test_state, config)\n",
    "display = f'''Analytical intent: {result['analytical_intent']}\\n\\nSQL query: {result['current_sql_queries']}\\n\\nGenerate Answer Details: {result['generate_answer_details']}\\n\\nAnswer: {result['llm_answer']}'''\n",
    "print(display)"
   ]
  }
 ],
 "metadata": {
  "interpreter": {
   "hash": "95f65b872249b8b9751ec454d9f1d56929740dd6969ecea16b02b402412196d8"
  },
  "kernelspec": {
   "display_name": "Python 3.13.5 ('.venv-py313': venv)",
   "language": "python",
   "name": "python3"
  },
  "language_info": {
   "codemirror_mode": {
    "name": "ipython",
    "version": 3
   },
   "file_extension": ".py",
   "mimetype": "text/x-python",
   "name": "python",
   "nbconvert_exporter": "python",
   "pygments_lexer": "ipython3",
   "version": "3.13.5"
  },
  "orig_nbformat": 4
 },
 "nbformat": 4,
 "nbformat_minor": 2
}