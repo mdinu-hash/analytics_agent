{
 "cells": [
  {
   "cell_type": "markdown",
   "metadata": {},
   "source": [
    "- to_date = 9999...\n",
    "- added which measure is additive\n",
    "- column text filter on like and %"
   ]
  },
  {
   "cell_type": "code",
   "execution_count": 1,
   "metadata": {},
   "outputs": [],
   "source": [
    "# add root to sys path\n",
    "import os\n",
    "import sys\n",
    "\n",
    "current_dir = os.getcwd()\n",
    "root = os.path.abspath(os.path.join(current_dir,\"..\"))\n",
    "if root not in sys.path:\n",
    "    sys.path.append(root)"
   ]
  },
  {
   "cell_type": "code",
   "execution_count": 2,
   "metadata": {},
   "outputs": [],
   "source": [
    "ANTHROPIC_API_KEY = os.getenv('ANTHROPIC_API_KEY')\n",
    "openai_api_key = os.getenv('OPENAI_API_KEY')\n",
    "os.environ['ANTHROPIC_API_KEY'] = ANTHROPIC_API_KEY"
   ]
  },
  {
   "cell_type": "code",
   "execution_count": null,
   "metadata": {},
   "outputs": [],
   "source": "# Run Agent 2025-09-15 10:52\n\nimport agent\nfrom langchain_core.messages import AIMessage, HumanMessage\n\ngraph = agent.graph\ncreate_config = agent.create_config\nobjects_documentation = agent.objects_documentation\ndatabase_content = agent.database_content\nsql_dialect = agent.sql_dialect\norchestrator = agent.orchestrator\nrun_control_flow = agent.run_control_flow\ngenerate_answer = agent.generate_answer\ncreate_sql_query_or_queries = agent.create_sql_query_or_queries\n\n# Import initialization components\nfrom src.init.initialization import (\n    llm, llm_fast, create_config, tracer,\n    objects_documentation, database_content, sql_dialect, connection_string\n)\n\nvector_store = None  # reset vector store\n\nquestion = 'I would like to identify household segments that make up a high revenue but they are a small % of firms as a number.' \nanalytical_intent = 'Calculate total net_revenue by household_segment from fact_revenue_monthly joined with household table, and calculate the count of distinct household_key per segment, then compute revenue per household ratio to identify segments with high revenue concentration but low household count representation.'\n\ntest_state = {\n'objects_documentation':objects_documentation,\n'database_content':database_content,\n'sql_dialect': sql_dialect,\n'messages_log':[],\n'intermediate_steps' : [],\n'analytical_intent': [analytical_intent],\n'current_question':question,\n'current_sql_queries': [],\n'generate_answer_details': {},\n'llm_answer': AIMessage(content='')\n}\n\ntest_state = create_sql_query_or_queries.invoke({'state':test_state})\ntest_state"
  },
  {
   "cell_type": "code",
   "execution_count": null,
   "metadata": {},
   "outputs": [],
   "source": "# Run Agent 2025-09-15 11:23\n\nimport agent\nfrom langchain_core.messages import AIMessage, HumanMessage\n\ngraph = agent.graph\ncreate_config = agent.create_config\nobjects_documentation = agent.objects_documentation\ndatabase_content = agent.database_content\nsql_dialect = agent.sql_dialect\norchestrator = agent.orchestrator\nrun_control_flow = agent.run_control_flow\ngenerate_answer = agent.generate_answer\ncreate_sql_query_or_queries = agent.create_sql_query_or_queries\n\n# Import initialization components\nfrom src.init.initialization import (\n    llm, llm_fast, create_config, tracer,\n    objects_documentation, database_content, sql_dialect, connection_string\n)\n\nvector_store = None  # reset vector store\n\nquestion = 'Firm-wide totals' \nanalytical_intent = '''Calculate the most recent snapshot_date firm-wide totals for Oak Wealth LLC by summing account_assets from fact_account_monthly and advisor_payout_amount from fact_revenue_monthly, joining with advisors table filtered by firm_name = 'Oak Wealth LLC' and grouping by firm_name.'''\n\ntest_state = {\n'objects_documentation':objects_documentation,\n'database_content':database_content,\n'sql_dialect': sql_dialect,\n'messages_log':[],\n'intermediate_steps' : [],\n'analytical_intent': [analytical_intent],\n'current_question':question,\n'current_sql_queries': [],\n'generate_answer_details': {},\n'llm_answer': AIMessage(content='')\n}\n\ntest_state = create_sql_query_or_queries.invoke({'state':test_state})\ntest_state"
  },
  {
   "cell_type": "code",
   "execution_count": null,
   "metadata": {},
   "outputs": [],
   "source": "# Run Agent 2025-09-15 09:43\n\nimport agent\nfrom langchain_core.messages import AIMessage, HumanMessage\n\ngraph = agent.graph\ncreate_config = agent.create_config\nobjects_documentation = agent.objects_documentation\ndatabase_content = agent.database_content\nsql_dialect = agent.sql_dialect\norchestrator = agent.orchestrator\nrun_control_flow = agent.run_control_flow\ngenerate_answer = agent.generate_answer\ncreate_sql_query_or_queries = agent.create_sql_query_or_queries\n\n# Import initialization components\nfrom src.init.initialization import (\n    llm, llm_fast, create_config, tracer,\n    objects_documentation, database_content, sql_dialect, connection_string\n)\n\nvector_store = None  # reset vector store\n\nquestion = 'Monthly recurring revenue, Top-ranking firms overall' \nanalytical_intent = '''Calculate the most recent snapshot_date firm-wide totals for Oak Wealth LLC by summing account_assets from fact_account_monthly and advisor_payout_amount from fact_revenue_monthly, joining with advisors table filtered by firm_name = 'Oak Wealth LLC' and grouping by firm_name.'''\n\ntest_state = {\n'objects_documentation':objects_documentation,\n'database_content':database_content,\n'sql_dialect': sql_dialect,\n'messages_log':[],\n'intermediate_steps' : [],\n'analytical_intent': [analytical_intent],\n'current_question':question,\n'current_sql_queries': [],\n'generate_answer_details': {},\n'llm_answer': AIMessage(content='')\n}\n\ntest_state = create_sql_query_or_queries.invoke({'state':test_state})\ntest_state"
  }
 ],
 "metadata": {
  "interpreter": {
   "hash": "95f65b872249b8b9751ec454d9f1d56929740dd6969ecea16b02b402412196d8"
  },
  "kernelspec": {
   "display_name": "Python 3.13.5 ('.venv-py313': venv)",
   "language": "python",
   "name": "python3"
  },
  "language_info": {
   "codemirror_mode": {
    "name": "ipython",
    "version": 3
   },
   "file_extension": ".py",
   "mimetype": "text/x-python",
   "name": "python",
   "nbconvert_exporter": "python",
   "pygments_lexer": "ipython3",
   "version": "3.13.5"
  },
  "orig_nbformat": 4
 },
 "nbformat": 4,
 "nbformat_minor": 2
}