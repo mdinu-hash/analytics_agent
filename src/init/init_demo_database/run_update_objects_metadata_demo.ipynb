{
 "cells": [
  {
   "cell_type": "markdown",
   "metadata": {},
   "source": [
    "# Update Demo Database Metadata\n",
    "\n",
    "This notebook runs the metadata updater for the PostgreSQL demo database, loading connection details from environment variables."
   ]
  },
  {
   "cell_type": "code",
   "execution_count": null,
   "metadata": {},
   "outputs": [],
   "source": [
    "# Import required packages\n",
    "import os\n",
    "from dotenv import load_dotenv\n",
    "import sys\n",
    "\n",
    "# Add the current directory to Python path to import our module\n",
    "sys.path.append('.')\n",
    "\n",
    "from update_objects_metadata_demo_db import main"
   ]
  },
  {
   "cell_type": "code",
   "execution_count": null,
   "metadata": {},
   "outputs": [],
   "source": [
    "# Load environment variables from .env file\n",
    "load_dotenv()\n",
    "\n",
    "# Get database connection string from environment variable\n",
    "connection_string = os.getenv('CONNECTION_STRING_DB')\n",
    "\n",
    "if not connection_string:\n",
    "    raise ValueError(\"CONNECTION_STRING_DB environment variable is required but not set\")\n",
    "\n",
    "print(\"Database connection string loaded successfully\")"
   ]
  },
  {
   "cell_type": "markdown",
   "metadata": {},
   "source": [
    "## Run Metadata Updates\n",
    "\n",
    "This will:\n",
    "1. Update table and column comments with comprehensive documentation\n",
    "2. Create a metadata reference table with all documentation and relationships\n",
    "3. Execute custom queries to populate distinct values for categorical columns"
   ]
  },
  {
   "cell_type": "code",
   "execution_count": null,
   "metadata": {},
   "outputs": [],
   "source": [
    "# Run the metadata updater\n",
    "try:\n",
    "    result = main(connection_string)\n",
    "    print(\"\\n\" + \"=\"*50)\n",
    "    print(\"METADATA UPDATE COMPLETED SUCCESSFULLY\")\n",
    "    print(\"=\"*50)\n",
    "    print(f\"Final result: {result}\")\n",
    "    \n",
    "except Exception as e:\n",
    "    print(f\"\\n❌ Error running metadata updater: {e}\")\n",
    "    import traceback\n",
    "    traceback.print_exc()"
   ]
  },
  {
   "cell_type": "markdown",
   "source": "## Check Account Table Metadata\n\nRun these PostgreSQL queries in your database to verify the metadata was applied correctly.",
   "metadata": {}
  }
 ],
 "metadata": {
  "kernelspec": {
   "display_name": "Python 3",
   "language": "python",
   "name": "python3"
  },
  "language_info": {
   "codemirror_mode": {
    "name": "ipython",
    "version": 3
   },
   "file_extension": ".py",
   "mimetype": "text/x-python",
   "name": "python",
   "nbconvert_exporter": "python",
   "pygments_lexer": "ipython3",
   "version": "3.8.0"
  }
 },
 "nbformat": 4,
 "nbformat_minor": 4
}