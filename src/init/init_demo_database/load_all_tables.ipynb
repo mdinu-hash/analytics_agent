{
 "cells": [
  {
   "cell_type": "code",
   "execution_count": null,
   "id": "361ce94d",
   "metadata": {},
   "outputs": [],
   "source": [
    "# load connection string\n",
    "import os\n",
    "from dotenv import load_dotenv\n",
    "from pathlib import Path\n",
    "import sys\n",
    "\n",
    "current_dir = Path.cwd()\n",
    "root_path = current_dir.parent.parent.parent\n",
    "sys.path.append(str(root_path))\n",
    "\n",
    "env_path = root_path / '.env'\n",
    "load_dotenv(env_path, override=True)\n",
    "connection_string = os.getenv('CONNECTION_STRING_DB')"
   ]
  },
  {
   "cell_type": "code",
   "execution_count": null,
   "id": "8aa95796",
   "metadata": {},
   "outputs": [],
   "source": [
    "# load date table\n",
    "\n",
    "from src.init.init_demo_database.b_create_date import DateDimensionGenerator\n",
    "\n",
    "date_generator = DateDimensionGenerator(connection_string=connection_string)\n",
    "\n",
    "# Generate the date dimension data\n",
    "date_data = date_generator.generate_date_dimension_data()\n",
    "print(f\"Generated {len(date_data):,} date records\")\n",
    "print(f\"Sample record: {date_data[0]}\")\n",
    "\n",
    "# Insert the data into the database\n",
    "print(\"Inserting date dimension data into database...\")\n",
    "date_generator.insert_date_dimension_data(date_data)\n",
    "print(\"Data insertion completed!\")"
   ]
  }
 ],
 "metadata": {
  "kernelspec": {
   "display_name": ".venv-py313",
   "language": "python",
   "name": "python3"
  },
  "language_info": {
   "codemirror_mode": {
    "name": "ipython",
    "version": 3
   },
   "file_extension": ".py",
   "mimetype": "text/x-python",
   "name": "python",
   "nbconvert_exporter": "python",
   "pygments_lexer": "ipython3",
   "version": "3.13.5"
  }
 },
 "nbformat": 4,
 "nbformat_minor": 5
}
